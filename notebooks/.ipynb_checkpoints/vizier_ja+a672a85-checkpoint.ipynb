
{
  "cells": [
    {
      "cell_type": "code",
      "execution_count": null,
      "id": "a6eaeebf",
      "metadata": {},
      "outputs": [],
      "source": [
        "# Access astronomical databases\n",
        "from pyvo import registry  # version >=1.6\n",
        "\n",
        "# Moc and HEALPix tools\n",
        "from mocpy import MOC\n",
        "\n",
        "# Coordinates manipulation\n",
        "from astropy.coordinates import SkyCoord\n",
        "\n",
        "# Sky visualization\n",
        "from ipyaladin import Aladin  # version >=0.4.0\n",
        "\n",
        "# For plots\n",
        "import matplotlib.pyplot as plt\n"
      ]
    },
    {
      "cell_type": "markdown",
      "id": "7ad7861f",
      "metadata": {},
      "source": [
        "# Welcome to VizieR example workflow\n",
        "\n",
        "[![Vizier](https://custom-icon-badges.demolab.com/badge/Vizier-gray.svg?logo=vizier&logoColor=orange&logoWidth=20)](https://vizier.cds.unistra.fr/viz-bin/VizieR \"https://vizier.cds.unistra.fr/viz-bin/VizieR\")\n",
        "\n",
        "**Notes:** \n",
        "\n",
        "It is a generic notebook, highlighting what can be done once you chose a catalog. This workflow is suggested by [CDS](https://cdsweb.unistra.fr/) (Strasbourg Astronomical Data Center, house of [VizieR](https://vizier.cds.unistra.fr/viz-bin/VizieR)).\n",
        "\n",
        "The notebook exploits [pyVO](https://pyvo.readthedocs.io/en/latest/), an advanced library  of The [Virtual Observatory](https://ivoa.net/).\n",
        "\n",
        "[Astroquery](https://astroquery.readthedocs.io/en/latest/vizier/vizier.html) (not used here) is a well-documented, user-friendly alternative.\n",
        "\n",
        "--------------------------------------------------------\n",
        "\n",
        "## 1. Setup\n",
        "\n",
        "This example notebook has the following dependencies: \n",
        "\n",
        "**Required**\n",
        "- pyvo : this library facilitates the access to the Virtual Observatory (VO) resources. VizieR is part of the VO.\n",
        "This notebook needs version >=1.4.1\n",
        "**Optional, for visualization**\n",
        "- ipyaladin : this is the Aladin-lite sky viewer, bundled as a jupyter widget. It allows to plot catalogs and multi-order coverages (MOC)\n",
        "- matplotlib : an other option to see catalog points and MOCs\n",
        "\n",
        "## 2. Metadata exploration with the Virtual Observatory registry\n",
        "\n",
        "This part uses [pyvo](https://pyvo.readthedocs.io/en) to connect to the VO registry."
      ]
    },
    {
      "cell_type": "code",
      "execution_count": null,
      "id": "95888801",
      "metadata": {},
      "outputs": [],
      "source": [
        "# the catalogue name in VizieR\n",
        "CATALOGUE = \"J/A+A/672/A85\""
      ]
    },
    {
      "cell_type": "markdown",
      "id": "26ad3c69",
      "metadata": {},
      "source": [
        "We first retrieve the catalogue information."
      ]
    },
    {
      "cell_type": "code",
      "execution_count": null,
      "id": "6db57e6b",
      "metadata": {},
      "outputs": [],
      "source": [
        "# each resource in the VO has an identifier, called ivoid. For vizier catalogs,\n",
        "# the VO ids can be constructed like this:\n",
        "catalogue_ivoid = f\"ivo://CDS.VizieR/{CATALOGUE}\"\n",
        "# the actual query to the registry\n",
        "voresource = registry.search(ivoid=catalogue_ivoid)[0]"
      ]
    },
    {
      "cell_type": "code",
      "execution_count": null,
      "id": "f3e975e3",
      "metadata": {},
      "outputs": [],
      "source": [
        "# We can print metadata information about the catalogue\n",
        "voresource.describe(verbose=True)"
      ]
    },
    {
      "cell_type": "markdown",
      "id": "bd2a7ae3",
      "metadata": {},
      "source": [
        "We can also inspect in details the `resource` object and access the attributes not provided by the describe method. See for example, the first author of a resource: "
      ]
    },
    {
      "cell_type": "code",
      "execution_count": null,
      "id": "f5a53605",
      "metadata": {},
      "outputs": [],
      "source": [
        "voresource.creators[0]"
      ]
    },
    {
      "cell_type": "markdown",
      "id": "5a457510",
      "metadata": {},
      "source": [
        "## 3. Access the tabular data of this catalog\n",
        "\n",
        "We can have a look at the tables available in the catalogue."
      ]
    },
    {
      "cell_type": "code",
      "execution_count": null,
      "id": "92ebe10f",
      "metadata": {},
      "outputs": [],
      "source": [
        "tables = voresource.get_tables()\n",
        "print(f\"In this catalogue, we have {len(tables)} tables.\")\n",
        "for table_name, table in tables.items():\n",
        "    print(f\"{table_name}: {table.description}\")"
      ]
    },
    {
      "cell_type": "code",
      "execution_count": null,
      "id": "81514878",
      "metadata": {},
      "outputs": [],
      "source": [
        "# We can also extract the tables names for later use\n",
        "tables_names = list(tables.keys())\n",
        "tables_names"
      ]
    },
    {
      "cell_type": "markdown",
      "id": "eedac527",
      "metadata": {},
      "source": [
        "The actual data can then be accessed using any of the ``access_modes`` of the voresource."
      ]
    },
    {
      "cell_type": "code",
      "execution_count": null,
      "id": "32db444e",
      "metadata": {},
      "outputs": [],
      "source": [
        "voresource.access_modes()"
      ]
    },
    {
      "cell_type": "markdown",
      "id": "4a7dd42f",
      "metadata": {},
      "source": [
        "The web access is found by following the ``reference_url``"
      ]
    },
    {
      "cell_type": "code",
      "execution_count": null,
      "id": "545f9bf8",
      "metadata": {},
      "outputs": [],
      "source": [
        "voresource.reference_url"
      ]
    },
    {
      "cell_type": "markdown",
      "id": "abee6ce7",
      "metadata": {},
      "source": [
        "### 3.1 Execute a SQL/ADQL query\n",
        "\n",
        "The ``tap#aux`` in the ``access_mode`` response indicates that we can also do a SQL/ADQL query for these VizieR tables.\n",
        "\n",
        "On the first table of the catalogue, we execute an <a href='https://www.ivoa.net/documents/latest/ADQL.html'>ADQL</a> query."
      ]
    },
    {
      "cell_type": "code",
      "execution_count": null,
      "id": "3a8b8d60",
      "metadata": {},
      "outputs": [],
      "source": [
        "# get the first table of the catalogue\n",
        "first_table_name = tables_names[0]\n",
        "\n",
        "# execute a synchronous ADQL query\n",
        "tap_service = voresource.get_service(\"tap\")\n",
        "tap_records = tap_service.search(\n",
        "    f'select TOP 10 * from \"{first_table_name}\"',\n",
        ")\n",
        "tap_records"
      ]
    },
    {
      "cell_type": "markdown",
      "id": "80157f1b",
      "metadata": {},
      "source": [
        "<!-- section position -->\n",
        "\n",
        "We will explore the other access modes here.\n",
        "\n",
        "### 3.2. Execute a cone search query\n",
        "\n",
        "We use the Simple Cone Search (<a href='https://www.ivoa.net/documents/latest/ConeSearch.html'>SCS</a>) protocol of the virtual observatory (only available for tables with positions).\n",
        "\n",
        "Finding the conesearch service that you want to use (there is usually one per table):"
      ]
    },
    {
      "cell_type": "markdown",
      "id": "f11fb741",
      "metadata": {},
      "source": [
        "Let's use the first one for this example. "
      ]
    },
    {
      "cell_type": "code",
      "execution_count": null,
      "id": "4515d133",
      "metadata": {},
      "outputs": [],
      "source": [
        "# we get the conesearch  service associated to the first table\n",
        "conesearch_interface = voresource.get_interface(service_type='conesearch', \n",
        "                                                keyword='J/A+A/672/A85/table1',\n",
        "                                                lax=True)\n",
        "# if you get a TypeError about an unexpected keyword, check that you installed pyvo>=1.6\n",
        "conesearch_service = conesearch_interface.to_service()"
      ]
    },
    {
      "cell_type": "markdown",
      "id": "ceaefcb5",
      "metadata": {},
      "source": [
        "We adapt the radius and position of the center to our needs:"
      ]
    },
    {
      "cell_type": "code",
      "execution_count": null,
      "id": "39b1153b",
      "metadata": {},
      "outputs": [],
      "source": [
        "conesearch_radius = 1 / 60.0  # in degrees\n",
        "conesearch_center = (299.369189, 26.556468)"
      ]
    },
    {
      "cell_type": "code",
      "execution_count": null,
      "id": "8f34d3fd",
      "metadata": {},
      "outputs": [],
      "source": [
        "conesearch_records = conesearch_service.search(\n",
        "    pos=conesearch_center,\n",
        "    sr=conesearch_radius,\n",
        ")\n",
        "conesearch_records"
      ]
    },
    {
      "cell_type": "markdown",
      "id": "d1df2200",
      "metadata": {},
      "source": [
        "## 4. Get the catalogue coverage\n",
        "\n",
        "VizieR also provides the coverage of each catalogue with Multiple Order Coverage (<a href='https://ivoa.net/documents/MOC/'>MOC</a>) at order 10 -- meaning with a 0.001 rad spacial resolution."
      ]
    },
    {
      "cell_type": "code",
      "execution_count": null,
      "id": "b532da7e",
      "metadata": {},
      "outputs": [],
      "source": [
        "# retrieve the MOC\n",
        "catalogue_coverage = MOC.from_vizier_table(CATALOGUE)\n",
        "catalogue_coverage.display_preview()"
      ]
    },
    {
      "cell_type": "markdown",
      "id": "a8273b53",
      "metadata": {},
      "source": [
        "The quick preview is the whole sky in equatorial coordinates. Red represent zones where the catalog has data, black areas are empty zones.\n",
        "\n",
        "We can also plot the coverage with ``matplotlib``."
      ]
    },
    {
      "cell_type": "code",
      "execution_count": null,
      "id": "f47e09e2",
      "metadata": {},
      "outputs": [],
      "source": [
        "fig = plt.figure(figsize=(5, 5))\n",
        "wcs = catalogue_coverage.wcs(fig)\n",
        "ax = fig.add_subplot(projection=wcs)\n",
        "catalogue_coverage.fill(ax=ax, wcs=wcs, alpha=0.5, color=\"blue\")"
      ]
    },
    {
      "cell_type": "markdown",
      "id": "adad9fc7",
      "metadata": {},
      "source": [
        "or with [ipyaladin](https://github.com/cds-astro/ipyaladin)"
      ]
    },
    {
      "cell_type": "code",
      "execution_count": null,
      "id": "53840a2b",
      "metadata": {},
      "outputs": [],
      "source": [
        "aladin = Aladin()\n",
        "aladin"
      ]
    },
    {
      "cell_type": "markdown",
      "id": "17465387",
      "metadata": {},
      "source": [
        "We switch the target to the center of the conesearch"
      ]
    },
    {
      "cell_type": "code",
      "execution_count": null,
      "id": "d550ccf4",
      "metadata": {},
      "outputs": [],
      "source": [
        "aladin.target = \"299.369189 +26.556468\""
      ]
    },
    {
      "cell_type": "markdown",
      "id": "de738e90-b34b-4818-a6e6-2d07c9b4c2c2",
      "metadata": {},
      "source": [
        "We can add the tables and coverage in this ipyaladin widget:"
      ]
    },
    {
      "cell_type": "code",
      "execution_count": null,
      "id": "52e6635c-2500-4c49-930b-35a08b36caa0",
      "metadata": {},
      "outputs": [],
      "source": [
        "aladin.add_table(conesearch_records.to_table(), color=\"lightskyblue\", shape=\"plus\")"
      ]
    },
    {
      "cell_type": "markdown",
      "id": "4f39955a",
      "metadata": {},
      "source": [
        "If you don't see the points from the conesearch result, try zooming in the widget with your mouse wheel.\n",
        "\n",
        "We can also add the result of the TAP query:"
      ]
    },
    {
      "cell_type": "code",
      "execution_count": null,
      "id": "3f55e7d1-bf38-4b7d-a73b-567f9b256f85",
      "metadata": {},
      "outputs": [],
      "source": [
        "aladin.add_table(tap_records.to_table())"
      ]
    },
    {
      "cell_type": "code",
      "execution_count": null,
      "id": "097a4505-5417-4dd3-9032-d75a76fa7c5c",
      "metadata": {},
      "outputs": [],
      "source": [
        "aladin.add_moc(\n",
        "    catalogue_coverage,\n",
        "    fill=True, opacity=0.5, color=\"pink\", edge=True\n",
        ")"
      ]
    },
    {
      "cell_type": "markdown",
      "id": "065588dd",
      "metadata": {},
      "source": [
        "For more information about manipulating multi-order coverages, see [MOCpy documentation](https://cds-astro.github.io/mocpy/), and about using the `ipyaladin` widget, see [its documentation](https://cds-astro.github.io/ipyaladin/)."
      ]
    }
  ],
  "metadata": {
    "language_info": {
      "name": "python"
    }
  },
  "nbformat": 4,
  "nbformat_minor": 5
}
